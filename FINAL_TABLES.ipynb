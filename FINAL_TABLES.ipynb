{
 "cells": [
  {
   "cell_type": "code",
   "execution_count": 257,
   "metadata": {
    "collapsed": true
   },
   "outputs": [],
   "source": [
    "#General stuff\n",
    "import time\n",
    "import datetime\n",
    "import glob\n",
    "import re\n",
    "import pandas as pd\n",
    "from collections import Counter\n",
    "import progressbar\n",
    "import jellyfish\n",
    "import matplotlib.pyplot as plt\n",
    "import matplotlib\n",
    "%matplotlib inline\n",
    "import numpy as np\n",
    "import statsmodels.formula.api as smf\n",
    "from collections import Counter\n",
    "from itertools import chain"
   ]
  },
  {
   "cell_type": "markdown",
   "metadata": {},
   "source": [
    "# Import Overall Data"
   ]
  },
  {
   "cell_type": "code",
   "execution_count": 286,
   "metadata": {
    "collapsed": true
   },
   "outputs": [],
   "source": [
    "df_de_soz_de = pd.read_csv('2007_2016_soz_de.csv')\n",
    "df_de_soz_fr = pd.read_csv('2007_2016_soz_fr.csv')\n",
    "df_de_straf_de = pd.read_csv('2007_2016_straf_de.csv')\n",
    "df_de_straf_fr = pd.read_csv('2007_2016_straf_fr.csv')\n",
    "df_de_ö = pd.read_csv('2007_2016_ör_de.csv')\n",
    "df_fr_ö = pd.read_csv('2007_2016_ör_fr.csv')\n",
    "df_de_ziv = pd.read_csv('2007_2016_ziv_de.csv')\n",
    "df_fr_ziv = pd.read_csv('2007_2016_zivil_fr.csv')"
   ]
  },
  {
   "cell_type": "code",
   "execution_count": 287,
   "metadata": {
    "collapsed": true
   },
   "outputs": [],
   "source": [
    "df_overall = df_de_soz_de.merge(df_de_soz_fr, how='left', left_on='Years', right_on='Years')\n",
    "df_overall = df_overall.merge(df_de_straf_de, how='left', left_on='Years', right_on='Years')\n",
    "df_overall = df_overall.merge(df_de_straf_fr, how='left', left_on='Years', right_on='Years')\n",
    "df_overall = df_overall.merge(df_de_ö, how='left', left_on='Years', right_on='Years')\n",
    "df_overall = df_overall.merge(df_fr_ö, how='left', left_on='Years', right_on='Years')\n",
    "df_overall = df_overall.merge(df_de_ziv, how='left', left_on='Years', right_on='Years')\n",
    "df_overall = df_overall.merge(df_fr_ziv, how='left', left_on='Years', right_on='Years')"
   ]
  },
  {
   "cell_type": "code",
   "execution_count": 288,
   "metadata": {
    "collapsed": true
   },
   "outputs": [],
   "source": [
    "del df_overall['Unnamed: 0_x']\n",
    "del df_overall['Datetime_x']\n",
    "del df_overall['Unnamed: 0_y']\n",
    "del df_overall['Datetime_y']"
   ]
  },
  {
   "cell_type": "code",
   "execution_count": 289,
   "metadata": {
    "collapsed": true
   },
   "outputs": [],
   "source": [
    "df_overall.index = df_overall['Years']"
   ]
  },
  {
   "cell_type": "code",
   "execution_count": 290,
   "metadata": {
    "collapsed": true
   },
   "outputs": [],
   "source": [
    "del df_overall['Years']"
   ]
  },
  {
   "cell_type": "code",
   "execution_count": 291,
   "metadata": {
    "collapsed": true
   },
   "outputs": [],
   "source": [
    "df_overall['Total'] = df_overall.sum(axis=1)"
   ]
  },
  {
   "cell_type": "code",
   "execution_count": 292,
   "metadata": {},
   "outputs": [
    {
     "data": {
      "text/html": [
       "<div>\n",
       "<table border=\"1\" class=\"dataframe\">\n",
       "  <thead>\n",
       "    <tr style=\"text-align: right;\">\n",
       "      <th></th>\n",
       "      <th>TOTAL_x</th>\n",
       "      <th>TOTAL_y</th>\n",
       "      <th>TOTAL_x</th>\n",
       "      <th>TOTAL_y</th>\n",
       "      <th>TOTAL_x</th>\n",
       "      <th>TOTAL_y</th>\n",
       "      <th>TOTAL_x</th>\n",
       "      <th>TOTAL_y</th>\n",
       "      <th>Total</th>\n",
       "    </tr>\n",
       "    <tr>\n",
       "      <th>Years</th>\n",
       "      <th></th>\n",
       "      <th></th>\n",
       "      <th></th>\n",
       "      <th></th>\n",
       "      <th></th>\n",
       "      <th></th>\n",
       "      <th></th>\n",
       "      <th></th>\n",
       "      <th></th>\n",
       "    </tr>\n",
       "  </thead>\n",
       "  <tbody>\n",
       "    <tr>\n",
       "      <th>2007</th>\n",
       "      <td>2461</td>\n",
       "      <td>696</td>\n",
       "      <td>80</td>\n",
       "      <td>345</td>\n",
       "      <td>8</td>\n",
       "      <td>203</td>\n",
       "      <td>244</td>\n",
       "      <td>525</td>\n",
       "      <td>4562</td>\n",
       "    </tr>\n",
       "    <tr>\n",
       "      <th>2008</th>\n",
       "      <td>1366</td>\n",
       "      <td>1446</td>\n",
       "      <td>295</td>\n",
       "      <td>802</td>\n",
       "      <td>1896</td>\n",
       "      <td>132</td>\n",
       "      <td>688</td>\n",
       "      <td>377</td>\n",
       "      <td>7002</td>\n",
       "    </tr>\n",
       "    <tr>\n",
       "      <th>2009</th>\n",
       "      <td>1993</td>\n",
       "      <td>623</td>\n",
       "      <td>669</td>\n",
       "      <td>296</td>\n",
       "      <td>130</td>\n",
       "      <td>55</td>\n",
       "      <td>1574</td>\n",
       "      <td>2158</td>\n",
       "      <td>7498</td>\n",
       "    </tr>\n",
       "    <tr>\n",
       "      <th>2010</th>\n",
       "      <td>2741</td>\n",
       "      <td>1391</td>\n",
       "      <td>107</td>\n",
       "      <td>450</td>\n",
       "      <td>40</td>\n",
       "      <td>49</td>\n",
       "      <td>1596</td>\n",
       "      <td>1505</td>\n",
       "      <td>7879</td>\n",
       "    </tr>\n",
       "    <tr>\n",
       "      <th>2011</th>\n",
       "      <td>2170</td>\n",
       "      <td>1744</td>\n",
       "      <td>80</td>\n",
       "      <td>110</td>\n",
       "      <td>181</td>\n",
       "      <td>3285</td>\n",
       "      <td>2497</td>\n",
       "      <td>1195</td>\n",
       "      <td>11262</td>\n",
       "    </tr>\n",
       "    <tr>\n",
       "      <th>2012</th>\n",
       "      <td>1973</td>\n",
       "      <td>1287</td>\n",
       "      <td>70</td>\n",
       "      <td>151</td>\n",
       "      <td>248</td>\n",
       "      <td>229</td>\n",
       "      <td>2243</td>\n",
       "      <td>1555</td>\n",
       "      <td>7756</td>\n",
       "    </tr>\n",
       "    <tr>\n",
       "      <th>2013</th>\n",
       "      <td>2280</td>\n",
       "      <td>1292</td>\n",
       "      <td>292</td>\n",
       "      <td>213</td>\n",
       "      <td>541</td>\n",
       "      <td>3990</td>\n",
       "      <td>2156</td>\n",
       "      <td>664</td>\n",
       "      <td>11428</td>\n",
       "    </tr>\n",
       "    <tr>\n",
       "      <th>2014</th>\n",
       "      <td>4086</td>\n",
       "      <td>1185</td>\n",
       "      <td>249</td>\n",
       "      <td>1668</td>\n",
       "      <td>549</td>\n",
       "      <td>652</td>\n",
       "      <td>4214</td>\n",
       "      <td>552</td>\n",
       "      <td>13155</td>\n",
       "    </tr>\n",
       "    <tr>\n",
       "      <th>2015</th>\n",
       "      <td>3303</td>\n",
       "      <td>1116</td>\n",
       "      <td>608</td>\n",
       "      <td>1801</td>\n",
       "      <td>663</td>\n",
       "      <td>1140</td>\n",
       "      <td>3987</td>\n",
       "      <td>659</td>\n",
       "      <td>13277</td>\n",
       "    </tr>\n",
       "    <tr>\n",
       "      <th>2016</th>\n",
       "      <td>2308</td>\n",
       "      <td>1092</td>\n",
       "      <td>71</td>\n",
       "      <td>1196</td>\n",
       "      <td>579</td>\n",
       "      <td>547</td>\n",
       "      <td>2665</td>\n",
       "      <td>195</td>\n",
       "      <td>8653</td>\n",
       "    </tr>\n",
       "  </tbody>\n",
       "</table>\n",
       "</div>"
      ],
      "text/plain": [
       "       TOTAL_x  TOTAL_y  TOTAL_x  TOTAL_y  TOTAL_x  TOTAL_y  TOTAL_x  TOTAL_y  \\\n",
       "Years                                                                           \n",
       "2007      2461      696       80      345        8      203      244      525   \n",
       "2008      1366     1446      295      802     1896      132      688      377   \n",
       "2009      1993      623      669      296      130       55     1574     2158   \n",
       "2010      2741     1391      107      450       40       49     1596     1505   \n",
       "2011      2170     1744       80      110      181     3285     2497     1195   \n",
       "2012      1973     1287       70      151      248      229     2243     1555   \n",
       "2013      2280     1292      292      213      541     3990     2156      664   \n",
       "2014      4086     1185      249     1668      549      652     4214      552   \n",
       "2015      3303     1116      608     1801      663     1140     3987      659   \n",
       "2016      2308     1092       71     1196      579      547     2665      195   \n",
       "\n",
       "       Total  \n",
       "Years         \n",
       "2007    4562  \n",
       "2008    7002  \n",
       "2009    7498  \n",
       "2010    7879  \n",
       "2011   11262  \n",
       "2012    7756  \n",
       "2013   11428  \n",
       "2014   13155  \n",
       "2015   13277  \n",
       "2016    8653  "
      ]
     },
     "execution_count": 292,
     "metadata": {},
     "output_type": "execute_result"
    }
   ],
   "source": [
    "df_overall"
   ]
  },
  {
   "cell_type": "code",
   "execution_count": 293,
   "metadata": {},
   "outputs": [
    {
     "data": {
      "text/plain": [
       "<matplotlib.axes._subplots.AxesSubplot at 0x108dfbf60>"
      ]
     },
     "execution_count": 293,
     "metadata": {},
     "output_type": "execute_result"
    },
    {
     "data": {
      "image/png": "[encoded data removed]",
      "text/plain": [
       "<matplotlib.figure.Figure at 0x10878a048>"
      ]
     },
     "metadata": {},
     "output_type": "display_data"
    }
   ],
   "source": [
    "df_overall['Total'].plot()"
   ]
  },
  {
   "cell_type": "code",
   "execution_count": 294,
   "metadata": {},
   "outputs": [],
   "source": [
    "df_overall = df_overall.reset_index()"
   ]
  },
  {
   "cell_type": "code",
   "execution_count": 295,
   "metadata": {},
   "outputs": [],
   "source": [
    "lm = smf.ols(formula=\"Years~Total\",data=df_overall).fit()"
   ]
  },
  {
   "cell_type": "code",
   "execution_count": 296,
   "metadata": {
    "collapsed": true
   },
   "outputs": [],
   "source": [
    "intercept, slope = lm.params"
   ]
  },
  {
   "cell_type": "code",
   "execution_count": 297,
   "metadata": {},
   "outputs": [
    {
     "data": {
      "text/plain": [
       "Intercept    2004.321693\n",
       "Total           0.000776\n",
       "dtype: float64"
      ]
     },
     "execution_count": 297,
     "metadata": {},
     "output_type": "execute_result"
    }
   ],
   "source": [
    "lm.params"
   ]
  },
  {
   "cell_type": "code",
   "execution_count": 298,
   "metadata": {},
   "outputs": [
    {
     "data": {
      "text/plain": [
       "[<matplotlib.lines.Line2D at 0x108e6e390>]"
      ]
     },
     "execution_count": 298,
     "metadata": {},
     "output_type": "execute_result"
    },
    {
     "data": {
      "image/png": "[encoded data removed]",
      "text/plain": [
       "<matplotlib.figure.Figure at 0x108e764a8>"
      ]
     },
     "metadata": {},
     "output_type": "display_data"
    }
   ],
   "source": [
    "df_overall.plot(x=\"Years\",y=\"Total\")\n",
    "plt.plot(df_overall[\"Years\"],slope*df_overall[\"Years\"]+intercept,\"-\",color=\"red\") "
   ]
  },
  {
   "cell_type": "markdown",
   "metadata": {},
   "source": [
    "# Import Clerk Data"
   ]
  },
  {
   "cell_type": "code",
   "execution_count": 227,
   "metadata": {
    "collapsed": true
   },
   "outputs": [],
   "source": [
    "df_fr = pd.read_csv('soz_500_fr.csv')\n",
    "df_de = pd.read_csv('soz_500_de.csv')\n",
    "df_de_straf = pd.read_csv('straf_500_de.csv')\n",
    "df_fr_straf = pd.read_csv('straf_500_fr.csv')\n",
    "#df_de_ö = pd.read_csv('ör_500_de.csv')\n",
    "#df_fr_ö = pd.read_csv('ör_500_fr.csv')\n",
    "df_de_ziv = pd.read_csv('ziv_500_de.csv')\n",
    "df_fr_ziv = pd.read_csv('zivil_500_fr.csv')"
   ]
  },
  {
   "cell_type": "markdown",
   "metadata": {},
   "source": [
    "# Harmonising Column names"
   ]
  },
  {
   "cell_type": "code",
   "execution_count": 244,
   "metadata": {
    "collapsed": true
   },
   "outputs": [],
   "source": [
    "df_fr.columns = [['Schreiberharm', 'ELEM 500 COUNT', 'TOTAL APPEALS', 'ElempCase', 'Gutgeheissen']]\n",
    "#df_fr_ö.columns = [['Schreiberharm', 'ELEM 500 COUNT', 'TOTAL APPEALS', 'ElempCase', 'Gutgeheissen']]\n",
    "df_fr_straf.columns = [['Schreiberharm', 'ELEM 500 COUNT', 'TOTAL APPEALS', 'ElempCase', 'Gutgeheissen']]\n",
    "df_fr_ziv.columns = [['Schreiberharm', 'ELEM 500 COUNT', 'TOTAL APPEALS', 'ElempCase', 'Gutgeheissen']]"
   ]
  },
  {
   "cell_type": "markdown",
   "metadata": {},
   "source": [
    "# Concat the files"
   ]
  },
  {
   "cell_type": "code",
   "execution_count": 245,
   "metadata": {
    "collapsed": true
   },
   "outputs": [],
   "source": [
    "frames = [df_fr, df_de, df_de_straf, df_fr_straf, df_de_ziv, df_fr_ziv]\n",
    "df = pd.concat(frames)"
   ]
  },
  {
   "cell_type": "code",
   "execution_count": 246,
   "metadata": {},
   "outputs": [
    {
     "data": {
      "text/html": [
       "<div>\n",
       "<table border=\"1\" class=\"dataframe\">\n",
       "  <thead>\n",
       "    <tr style=\"text-align: right;\">\n",
       "      <th></th>\n",
       "      <th>Schreiberharm</th>\n",
       "      <th>ELEM 500 COUNT</th>\n",
       "      <th>TOTAL APPEALS</th>\n",
       "      <th>ElempCase</th>\n",
       "      <th>Gutgeheissen</th>\n",
       "    </tr>\n",
       "  </thead>\n",
       "  <tbody>\n",
       "    <tr>\n",
       "      <th>0</th>\n",
       "      <td>Piguet</td>\n",
       "      <td>3649</td>\n",
       "      <td>465.0</td>\n",
       "      <td>7.8</td>\n",
       "      <td>28.0</td>\n",
       "    </tr>\n",
       "    <tr>\n",
       "      <th>1</th>\n",
       "      <td>Cretton</td>\n",
       "      <td>2422</td>\n",
       "      <td>424.0</td>\n",
       "      <td>5.7</td>\n",
       "      <td>21.4</td>\n",
       "    </tr>\n",
       "    <tr>\n",
       "      <th>2</th>\n",
       "      <td>Berthoud</td>\n",
       "      <td>1081</td>\n",
       "      <td>316.0</td>\n",
       "      <td>3.4</td>\n",
       "      <td>19.6</td>\n",
       "    </tr>\n",
       "    <tr>\n",
       "      <th>3</th>\n",
       "      <td>Wagner</td>\n",
       "      <td>998</td>\n",
       "      <td>233.0</td>\n",
       "      <td>4.3</td>\n",
       "      <td>19.0</td>\n",
       "    </tr>\n",
       "    <tr>\n",
       "      <th>4</th>\n",
       "      <td>Bouverat</td>\n",
       "      <td>509</td>\n",
       "      <td>119.0</td>\n",
       "      <td>4.3</td>\n",
       "      <td>20.1</td>\n",
       "    </tr>\n",
       "  </tbody>\n",
       "</table>\n",
       "</div>"
      ],
      "text/plain": [
       "  Schreiberharm  ELEM 500 COUNT  TOTAL APPEALS  ElempCase  Gutgeheissen\n",
       "0        Piguet            3649          465.0        7.8          28.0\n",
       "1       Cretton            2422          424.0        5.7          21.4\n",
       "2      Berthoud            1081          316.0        3.4          19.6\n",
       "3        Wagner             998          233.0        4.3          19.0\n",
       "4      Bouverat             509          119.0        4.3          20.1"
      ]
     },
     "execution_count": 246,
     "metadata": {},
     "output_type": "execute_result"
    }
   ],
   "source": [
    "df.head()"
   ]
  },
  {
   "cell_type": "markdown",
   "metadata": {},
   "source": [
    "# Slope or not?"
   ]
  },
  {
   "cell_type": "code",
   "execution_count": 247,
   "metadata": {
    "collapsed": true
   },
   "outputs": [],
   "source": [
    "lm = smf.ols(formula=\"ElempCase~Gutgeheissen\",data=df).fit()"
   ]
  },
  {
   "cell_type": "code",
   "execution_count": 248,
   "metadata": {
    "collapsed": true
   },
   "outputs": [],
   "source": [
    "intercept, slope = lm.params"
   ]
  },
  {
   "cell_type": "code",
   "execution_count": 249,
   "metadata": {},
   "outputs": [
    {
     "data": {
      "text/plain": [
       "Intercept       2.116294\n",
       "Gutgeheissen   -0.026143\n",
       "dtype: float64"
      ]
     },
     "execution_count": 249,
     "metadata": {},
     "output_type": "execute_result"
    }
   ],
   "source": [
    "lm.params"
   ]
  },
  {
   "cell_type": "code",
   "execution_count": 250,
   "metadata": {},
   "outputs": [
    {
     "data": {
      "text/plain": [
       "[<matplotlib.lines.Line2D at 0x1087f7b70>]"
      ]
     },
     "execution_count": 250,
     "metadata": {},
     "output_type": "execute_result"
    },
    {
     "data": {
      "image/png": "[encoded data removed]",
      "text/plain": [
       "<matplotlib.figure.Figure at 0x108548d68>"
      ]
     },
     "metadata": {},
     "output_type": "display_data"
    }
   ],
   "source": [
    "df.plot(kind='scatter', x=\"Gutgeheissen\",y=\"ElempCase\")\n",
    "plt.plot(df[\"Gutgeheissen\"],slope*df[\"Gutgeheissen\"]+intercept,\"-\",color=\"red\") "
   ]
  },
  {
   "cell_type": "code",
   "execution_count": 255,
   "metadata": {
    "collapsed": true
   },
   "outputs": [],
   "source": [
    "df.to_csv('data_for_statcheck.csv')"
   ]
  },
  {
   "cell_type": "markdown",
   "metadata": {},
   "source": [
    "# Who are there outliers?"
   ]
  },
  {
   "cell_type": "code",
   "execution_count": 256,
   "metadata": {},
   "outputs": [
    {
     "name": "stdout",
     "output_type": "stream",
     "text": [
      "<class 'pandas.core.frame.DataFrame'>\n",
      "Int64Index: 145 entries, 0 to 25\n",
      "Data columns (total 5 columns):\n",
      "Schreiberharm     145 non-null object\n",
      "ELEM 500 COUNT    145 non-null int64\n",
      "TOTAL APPEALS     145 non-null float64\n",
      "ElempCase         145 non-null float64\n",
      "Gutgeheissen      142 non-null float64\n",
      "dtypes: float64(3), int64(1), object(1)\n",
      "memory usage: 6.8+ KB\n"
     ]
    }
   ],
   "source": [
    "df.info()"
   ]
  },
  {
   "cell_type": "code",
   "execution_count": 252,
   "metadata": {},
   "outputs": [
    {
     "data": {
      "text/html": [
       "<div>\n",
       "<table border=\"1\" class=\"dataframe\">\n",
       "  <thead>\n",
       "    <tr style=\"text-align: right;\">\n",
       "      <th></th>\n",
       "      <th>Schreiberharm</th>\n",
       "      <th>ELEM 500 COUNT</th>\n",
       "      <th>TOTAL APPEALS</th>\n",
       "      <th>ElempCase</th>\n",
       "      <th>Gutgeheissen</th>\n",
       "    </tr>\n",
       "  </thead>\n",
       "  <tbody>\n",
       "    <tr>\n",
       "      <th>0</th>\n",
       "      <td>Piguet</td>\n",
       "      <td>3649</td>\n",
       "      <td>465.0</td>\n",
       "      <td>7.8</td>\n",
       "      <td>28.0</td>\n",
       "    </tr>\n",
       "    <tr>\n",
       "      <th>6</th>\n",
       "      <td>Bleicker</td>\n",
       "      <td>458</td>\n",
       "      <td>64.0</td>\n",
       "      <td>7.2</td>\n",
       "      <td>0.0</td>\n",
       "    </tr>\n",
       "    <tr>\n",
       "      <th>0</th>\n",
       "      <td>Durizzo</td>\n",
       "      <td>3286</td>\n",
       "      <td>406.0</td>\n",
       "      <td>8.1</td>\n",
       "      <td>16.2</td>\n",
       "    </tr>\n",
       "    <tr>\n",
       "      <th>1</th>\n",
       "      <td>Riedi Hunold</td>\n",
       "      <td>3194</td>\n",
       "      <td>310.0</td>\n",
       "      <td>10.3</td>\n",
       "      <td>24.0</td>\n",
       "    </tr>\n",
       "    <tr>\n",
       "      <th>2</th>\n",
       "      <td>Holzer</td>\n",
       "      <td>2506</td>\n",
       "      <td>260.0</td>\n",
       "      <td>9.6</td>\n",
       "      <td>27.0</td>\n",
       "    </tr>\n",
       "    <tr>\n",
       "      <th>4</th>\n",
       "      <td>Nabold</td>\n",
       "      <td>1397</td>\n",
       "      <td>174.0</td>\n",
       "      <td>8.0</td>\n",
       "      <td>18.2</td>\n",
       "    </tr>\n",
       "    <tr>\n",
       "      <th>5</th>\n",
       "      <td>Furrer</td>\n",
       "      <td>1163</td>\n",
       "      <td>158.0</td>\n",
       "      <td>7.4</td>\n",
       "      <td>12.7</td>\n",
       "    </tr>\n",
       "    <tr>\n",
       "      <th>2</th>\n",
       "      <td>Brugger</td>\n",
       "      <td>440</td>\n",
       "      <td>65.0</td>\n",
       "      <td>6.8</td>\n",
       "      <td>1.3</td>\n",
       "    </tr>\n",
       "  </tbody>\n",
       "</table>\n",
       "</div>"
      ],
      "text/plain": [
       "  Schreiberharm  ELEM 500 COUNT  TOTAL APPEALS  ElempCase  Gutgeheissen\n",
       "0        Piguet            3649          465.0        7.8          28.0\n",
       "6      Bleicker             458           64.0        7.2           0.0\n",
       "0       Durizzo            3286          406.0        8.1          16.2\n",
       "1  Riedi Hunold            3194          310.0       10.3          24.0\n",
       "2        Holzer            2506          260.0        9.6          27.0\n",
       "4        Nabold            1397          174.0        8.0          18.2\n",
       "5        Furrer            1163          158.0        7.4          12.7\n",
       "2       Brugger             440           65.0        6.8           1.3"
      ]
     },
     "execution_count": 252,
     "metadata": {},
     "output_type": "execute_result"
    }
   ],
   "source": [
    "df[df['ElempCase'] > 6]"
   ]
  },
  {
   "cell_type": "code",
   "execution_count": 253,
   "metadata": {},
   "outputs": [
    {
     "data": {
      "text/plain": [
       "count    145.000000\n",
       "mean       1.602069\n",
       "std        2.103452\n",
       "min        0.000000\n",
       "25%        0.200000\n",
       "50%        0.900000\n",
       "75%        1.900000\n",
       "max       10.300000\n",
       "Name: ElempCase, dtype: float64"
      ]
     },
     "execution_count": 253,
     "metadata": {},
     "output_type": "execute_result"
    }
   ],
   "source": [
    "df['ElempCase'].describe()"
   ]
  },
  {
   "cell_type": "code",
   "execution_count": null,
   "metadata": {
    "collapsed": true
   },
   "outputs": [],
   "source": []
  }
 ],
 "metadata": {
  "kernelspec": {
   "display_name": "Python 3",
   "language": "python",
   "name": "python3"
  },
  "language_info": {
   "codemirror_mode": {
    "name": "ipython",
    "version": 3
   },
   "file_extension": ".py",
   "mimetype": "text/x-python",
   "name": "python",
   "nbconvert_exporter": "python",
   "pygments_lexer": "ipython3",
   "version": "3.5.1"
  }
 },
 "nbformat": 4,
 "nbformat_minor": 2
}
